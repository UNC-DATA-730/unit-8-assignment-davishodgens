{
 "cells": [
  {
   "cell_type": "markdown",
   "id": "874ae301",
   "metadata": {},
   "source": [
    "# Assignment 10: A* pathfinding\n",
    "A* pathfinding is a commonly used algorithm for find the shortest traversable distance in applications like route finding in maps to AI pathfinding in video games. It is similar to Dijkstra's algorithm, but rather than traversing all nodes, it uses a cost calculation that allows the untraversed nodes to be sorted in a heap structure. For example, let's say we have a binary array of size (5, 5), where each value is a map tile:\n",
    "```\n",
    "[0  0  0  0  0\n",
    " 0  0  1  0* 0\n",
    " 0  0  1  0  0\n",
    " 0  0  0  1  0\n",
    " 0  0  0  0  0]\n",
    "```\n",
    "Your goal is to traverse the map from the bottom left point to the tile denoted by the asterisk. Any space on the map occupied by 0 is considered walkable, whereas 1 represents an impassable barrier. In this exercise we will create an algorithm that efficiently calculates the shortest walkable path to the goal."
   ]
  },
  {
   "cell_type": "code",
   "execution_count": 2,
   "id": "d81650e8-cba5-4e9d-a6a3-a0bd397c86fa",
   "metadata": {
    "tags": []
   },
   "outputs": [],
   "source": [
    "import numpy as np\n",
    "import matplotlib.pyplot as plt"
   ]
  },
  {
   "cell_type": "code",
   "execution_count": 3,
   "id": "b1141c5a-9ce8-477b-9df9-f2870e3ebf8f",
   "metadata": {
    "tags": []
   },
   "outputs": [],
   "source": [
    "# A function for plotting a map\n",
    "def plot_grid(array, start, goal):\n",
    "    fig, axs = plt.subplots()\n",
    "    axs.imshow(array, cmap=\"binary\")\n",
    "    \n",
    "    # Grid on minor ticks\n",
    "    axs.set_xticks(np.arange(-0.5, array.shape[1]), minor=True)\n",
    "    axs.set_yticks(np.arange(-0.5, array.shape[0]), minor=True)\n",
    "    axs.grid(visible=True, which=\"minor\")\n",
    "    \n",
    "    # Show start/goal\n",
    "    axs.scatter(start[1], start[0], c=\"c\")\n",
    "    axs.scatter(goal[1], goal[0], c=\"r\")\n",
    "    axs.set(xticks=[], yticks=[])\n",
    "    \n",
    "    plt.show()"
   ]
  },
  {
   "cell_type": "code",
   "execution_count": 4,
   "id": "21dfd275-14cc-46f9-b731-98b062fbea1e",
   "metadata": {
    "tags": []
   },
   "outputs": [
    {
     "data": {
      "image/png": "[encoded data removed]",
      "text/plain": [
       "<Figure size 640x480 with 1 Axes>"
      ]
     },
     "metadata": {},
     "output_type": "display_data"
    }
   ],
   "source": [
    "# Plot the example above\n",
    "array = np.array(\n",
    "    [[0,  0,  0,  0,  0],\n",
    "     [0,  0,  1,  0,  0],\n",
    "     [0,  0,  1,  0,  0],\n",
    "     [0,  0,  0,  1,  0],\n",
    "     [0,  0,  0,  0,  0]]\n",
    ")\n",
    "start = (4, 0)\n",
    "goal = (1, 3)\n",
    "plot_grid(array, start, goal)"
   ]
  },
  {
   "cell_type": "markdown",
   "id": "abff1f9c",
   "metadata": {},
   "source": [
    "## Define nodes\n",
    "Create a class `Node` for each tile in the map. These will contain:\n",
    "1. A value `g`, the distance from the start node to this node\n",
    "2. A value `h`, the heuristic, or estimated distance to the end node\n",
    "3. A value `f`, the total cost of the node as defined by `f + g`\n",
    "4. The map coordinate `coord`\n",
    "5. A boolean designation `walkable`\n",
    "6. A `parent` pointer"
   ]
  },
  {
   "cell_type": "code",
   "execution_count": 72,
   "id": "40d5c3f9",
   "metadata": {},
   "outputs": [],
   "source": [
    "# Define Node with (x, y) tuple for `coord`\n",
    "class Node:\n",
    "    def __init__(self, coord, walkable):\n",
    "        self.coord = coord  # Coordinate of the node (x, y)\n",
    "        self.walkable = walkable  # Boolean indicating if the node is walkable\n",
    "        self.g = float('inf')  # Distance from start node, initialized to infinity\n",
    "        self.h = 0  # Heuristic distance to the end node\n",
    "        self.f = float('inf')  # Total cost, initialized to infinity\n",
    "        self.parent = None  # Pointer to the parent node\n",
    "\n",
    "    def __lt__(self, other):\n",
    "        return self.f < other.f  # Comparison method for priority queue\n",
    "\n"
   ]
  },
  {
   "cell_type": "markdown",
   "id": "c1918532",
   "metadata": {},
   "source": [
    "## The algorithm\n",
    "The main function will need to accept three arguments: the map array, the starting position, and the end position. Generally, you will have two lists of nodes: one for nearby candidate nodes that have yet to be traversed (`open_list`), and one of nodes you've already visited (`closed_list`). Here are the steps:\n",
    "1. Add the starting node to the open list.\n",
    "2. Repeat the following:<br />\n",
    "    1. Look for the lowest F cost square on the open list. We refer to this as the current square.<br />\n",
    "    2. Switch it to the closed list.<br />\n",
    "    3. For each of the 8 squares adjacent to this current square:<br />\n",
    "        1. If it is not walkable or if it is on the closed list, **ignore it and move to the next neighbor**.<br /> Otherwise do the following:<br />\n",
    "        2. If it isn’t on the open list, add it to the open list.<br />\n",
    "        3. Make the current square the parent of this square.<br />\n",
    "        4. Record the F, G, and H costs of the square.<br />\n",
    "        5. If it is on the open list already, check to see if this path to that square is better, using G cost as the measure. A lower G cost means that this is a better path. If so, change the parent of the square to the current square, and recalculate the G and F scores of the square. If you are keeping your open list sorted by F score, you may need to resort the list to account for the change.<br />\n",
    "    4. Stop when you:<br />\n",
    "        1. Add the target square to the closed list, in which case the path has been found, or<br />\n",
    "        2. Fail to find the target square, and the open list is empty. In this case, there is no path.<br />\n",
    "3. Save the path. Working backwards from the target square, go from each square to its parent square until you reach the starting square. That is your path.\n",
    "4. **Return the path (`None` if not found) and the listed of traversed coordinates.** These arguments will be passed to the plotting function below.\n",
    "\n",
    "In this case, the `open_list` will be a minimum heap. Create a class `Heap` the has:\n",
    "1. `heap`: a list of nodes\n",
    "2. A function `append` for adding nodes to the heap.\n",
    "3. A function `sift_up` for sifting a node to the top of the heap\n",
    "4. A function `heapify` for sorting the heap such that the minimum is on top.\n",
    "5. A `pop` function for removing and returning the node with the minimum cost"
   ]
  },
  {
   "cell_type": "code",
   "execution_count": 139,
   "id": "af5f0ce1",
   "metadata": {},
   "outputs": [],
   "source": [
    "# Define Heap\n",
    "import heapq\n",
    "\n",
    "class Heap:\n",
    "    def __init__(self):\n",
    "        self.heap = []\n",
    "\n",
    "    def append(self, node):\n",
    "        heapq.heappush(self.heap, node)\n",
    "\n",
    "    def pop(self):\n",
    "        return heapq.heappop(self.heap)\n",
    "\n",
    "    def __len__(self):\n",
    "        return len(self.heap)\n"
   ]
  },
  {
   "cell_type": "markdown",
   "id": "5bde1177",
   "metadata": {},
   "source": [
    "Now implement a main function that performs the tasks of the algorithm"
   ]
  },
  {
   "cell_type": "code",
   "execution_count": 129,
   "id": "c6a8b80f",
   "metadata": {},
   "outputs": [],
   "source": [
    "def a_star_search(map_array, start, goal):\n",
    "    # Initializing the Start and End Nodes\n",
    "    start_node = Node(start, True)\n",
    "    goal_node = Node(goal, True)\n",
    "    # Create the Open List that explores all of the possible cell that the path can take\n",
    "    open_list = Heap()\n",
    "    # The closed list contains the unique nodes that have already been explored\n",
    "    closed_list = set()\n",
    "\n",
    "    # Appending the first node to the Open List\n",
    "    start_node.g = 0\n",
    "    start_node.h = heuristic(start_node.coord, goal_node.coord)\n",
    "    start_node.f = start_node.g + start_node.h\n",
    "    open_list.append(start_node)\n",
    "\n",
    "    while len(open_list) > 0:\n",
    "        # current_node takes the value of the lowest f values from the open_list\n",
    "        current_node = open_list.pop()\n",
    "        # Adds the coordinates of the lowest f value to the closed list, marking it as explored\n",
    "        closed_list.add(current_node.coord)\n",
    "\n",
    "        # Checks if the current node is the goal node, meaning it found the end of the path\n",
    "        if current_node.coord == goal_node.coord:\n",
    "            # returns the reconstucted path\n",
    "            return reconstruct_path(current_node), closed_list\n",
    "\n",
    "        # Gets all the walkable neighboring nodes\n",
    "        neighbors = get_neighbors(current_node, map_array)\n",
    "        # Iterates through each neighbor and skips if the neighbor has already been explored\n",
    "        for neighbor in neighbors:\n",
    "            if neighbor.coord in closed_list or not neighbor.walkable:\n",
    "                continue\n",
    "\n",
    "            # Calculates the cost of g\n",
    "            tentative_g = current_node.g + 1  # Assuming uniform cost for simplicity\n",
    "\n",
    "            # If the new path to the neighbor is shorter, update the costs\n",
    "            if tentative_g < neighbor.g:\n",
    "                neighbor.parent = current_node\n",
    "                neighbor.g = tentative_g\n",
    "                neighbor.h = heuristic(neighbor.coord, goal_node.coord)\n",
    "                neighbor.f = neighbor.g + neighbor.h\n",
    "                # Appends the neighbor in the open list if not in it\n",
    "                if neighbor not in open_list.heap:\n",
    "                    open_list.append(neighbor)\n",
    "    \n",
    "    return None, closed_list\n",
    "\n",
    "def heuristic(coord1, coord2):\n",
    "    # Using Manhattan distance as heuristic\n",
    "    return abs(coord1[0] - coord2[0]) + abs(coord1[1] - coord2[1])\n",
    "\n",
    "def get_neighbors(node, map_array):\n",
    "    neighbors = []\n",
    "    # the applicable path directions that each coord can go to reach a neighbor\n",
    "    directions = [(-1, 0), (1, 0), (0, -1), (0, 1), (-1, -1), (-1, 1), (1, -1), (1, 1)]\n",
    "    # Iterates through each direction and calculates the coordinates of neighbor\n",
    "    for direction in directions:\n",
    "        neighbor_coord = (node.coord[0] + direction[0], node.coord[1] + direction[1])\n",
    "        # Checks if the neighbor coordinates are in the map array\n",
    "        if 0 <= neighbor_coord[0] < len(map_array) and 0 <= neighbor_coord[1] < len(map_array[0]):\n",
    "            # determines if they are walkable\n",
    "            walkable = map_array[neighbor_coord[0]][neighbor_coord[1]] == 0\n",
    "            # appends the node of the neighbor to the list\n",
    "            neighbors.append(Node(neighbor_coord, walkable))\n",
    "    # returns the list of applicable neighbors\n",
    "    return neighbors\n",
    "\n",
    "def reconstruct_path(node):\n",
    "    path = []\n",
    "    # if the node exists, it appends the path backwards to the path list\n",
    "    while node is not None:\n",
    "        path.append(node.coord)\n",
    "        node = node.parent\n",
    "    return path[::-1]\n"
   ]
  },
  {
   "cell_type": "code",
   "execution_count": 125,
   "id": "33f1a3d2-291c-4aec-9cdd-9d40cdc989af",
   "metadata": {},
   "outputs": [
    {
     "data": {
      "text/plain": [
       "inf"
      ]
     },
     "execution_count": 125,
     "metadata": {},
     "output_type": "execute_result"
    }
   ],
   "source": [
    "x = a_star_search(array, start, goal)\n",
    "x[0].f"
   ]
  },
  {
   "cell_type": "markdown",
   "id": "76755ec2-1f35-45dc-b44b-8fda8686d78e",
   "metadata": {},
   "source": [
    "## Plot some scenarios\n",
    "Below are functions for generating random, scalable maps and plotting the path and visited nodes."
   ]
  },
  {
   "cell_type": "code",
   "execution_count": 45,
   "id": "8e3c0535-34f5-4c52-983c-f20e49e0eeed",
   "metadata": {
    "tags": []
   },
   "outputs": [],
   "source": [
    "def plot_path(array, path, visited, start, goal):\n",
    "    \"\"\"\n",
    "    Function for plotting the Astar outcome.\n",
    "    \n",
    "    Parameters\n",
    "    array: binary array where 0 is walkable\n",
    "    path: the output path from astar\n",
    "    visited: list of visited nodes\n",
    "    start: starting coord\n",
    "    goal: ending coord\n",
    "    \"\"\"\n",
    "    fig, axs = plt.subplots(1, 2)\n",
    "    for i, coord_list in enumerate([path, visited]):\n",
    "        axs[i].imshow(array, cmap=\"binary\")\n",
    "        \n",
    "        if coord_list:\n",
    "            y = [coord[0] for coord in coord_list]\n",
    "            x = [coord[1] for coord in coord_list]\n",
    "            if i == 0:\n",
    "                axs[i].scatter(x, y)\n",
    "            else:\n",
    "                axs[i].scatter(x, y, c=\"y\")\n",
    "            \n",
    "        # Grid on minor ticks\n",
    "        axs[i].set_xticks(np.arange(-0.5, array.shape[1]), minor=True)\n",
    "        axs[i].set_yticks(np.arange(-0.5, array.shape[0]), minor=True)\n",
    "        axs[i].grid(visible=True, which=\"minor\")\n",
    "\n",
    "        # Show start/goal\n",
    "        axs[i].scatter(start[1], start[0], c=\"c\")\n",
    "        axs[i].scatter(goal[1], goal[0], c=\"r\")\n",
    "        axs[i].set(xticks=[], yticks=[])\n",
    "    \n",
    "    plt.show()"
   ]
  },
  {
   "cell_type": "code",
   "execution_count": 15,
   "id": "92c6e083-a840-4953-beae-73afd7c42bbb",
   "metadata": {
    "tags": []
   },
   "outputs": [],
   "source": [
    "# Plot your solution path and visited nodes from the example map at the beginning\n"
   ]
  },
  {
   "cell_type": "code",
   "execution_count": 16,
   "id": "ff62ffa5-50dc-49e9-96bf-0dda787dd730",
   "metadata": {
    "tags": []
   },
   "outputs": [
    {
     "data": {
      "image/png": "[encoded data removed]",
      "text/plain": [
       "<Figure size 640x480 with 3 Axes>"
      ]
     },
     "metadata": {},
     "output_type": "display_data"
    }
   ],
   "source": [
    "# Generate some random maps to walk\n",
    "def random_map(rows, cols, density=0.3):\n",
    "    \"\"\" A function for generating random maps for walking from top left (0,0) to bottom right (len - 1, len - 1) corners \"\"\"\n",
    "    \n",
    "    # Generate a random traversable array with obstacles\n",
    "    array = np.zeros((rows, cols), dtype=int)\n",
    "    num_obstacles = int(rows * cols * density)  # Adjust obstacle density as needed\n",
    "\n",
    "    # Randomly place obstacles\n",
    "    for _ in range(num_obstacles):\n",
    "        x = np.random.randint(0, rows)\n",
    "        y = np.random.randint(0, cols)\n",
    "        array[x, y] = 1\n",
    "\n",
    "    # Make sure the start and end corners are walkable\n",
    "    array[0, 0] = 0\n",
    "    array[rows - 1, cols - 1] = 0\n",
    "\n",
    "    return array\n",
    "\n",
    "# Plot a few examples\n",
    "fig, ax = plt.subplots(1, 3)\n",
    "ax[0].imshow(random_map(8, 8), cmap=\"binary\")\n",
    "ax[1].imshow(random_map(16, 16), cmap=\"binary\")\n",
    "ax[2].imshow(random_map(64, 64), cmap=\"binary\")\n",
    "plt.show()"
   ]
  },
  {
   "cell_type": "code",
   "execution_count": 137,
   "id": "b4963dea-8fec-486b-997e-fc96bbf7f176",
   "metadata": {
    "tags": []
   },
   "outputs": [
    {
     "data": {
      "image/png": "[encoded data removed]",
      "text/plain": [
       "<Figure size 640x480 with 2 Axes>"
      ]
     },
     "metadata": {},
     "output_type": "display_data"
    }
   ],
   "source": [
    "# Try substituting different array dimensions and densities\n",
    "# (warning: very large dimension might take a while without a heap)\n",
    "array = random_map(16, 16, density=0.3)\n",
    "\n",
    "# Do not change these. We made sure the start and goal are open in the map generation\n",
    "start = (0, 0)\n",
    "goal = (array.shape[0] - 1, array.shape[1] - 1)\n",
    "\n",
    "# Call your pathfinding below on the random map and then plot it with `plot_path()` from earlier\n",
    "path, visited = a_star_search(array, start, goal)\n",
    "plot_path(array, path, visited, start, goal)\n"
   ]
  },
  {
   "cell_type": "code",
   "execution_count": null,
   "id": "49e7156c-8178-4334-b960-5a3b046c7fdb",
   "metadata": {},
   "outputs": [],
   "source": []
  },
  {
   "cell_type": "code",
   "execution_count": null,
   "id": "a8ecb918-f12a-4971-ac31-fa5e5a1170b0",
   "metadata": {},
   "outputs": [],
   "source": []
  },
  {
   "cell_type": "code",
   "execution_count": null,
   "id": "9e20e017-efca-4ea1-9527-37b3ce08329d",
   "metadata": {},
   "outputs": [],
   "source": []
  }
 ],
 "metadata": {
  "kernelspec": {
   "display_name": "Python 3 (ipykernel)",
   "language": "python",
   "name": "python3"
  },
  "language_info": {
   "codemirror_mode": {
    "name": "ipython",
    "version": 3
   },
   "file_extension": ".py",
   "mimetype": "text/x-python",
   "name": "python",
   "nbconvert_exporter": "python",
   "pygments_lexer": "ipython3",
   "version": "3.12.4"
  }
 },
 "nbformat": 4,
 "nbformat_minor": 5
}
